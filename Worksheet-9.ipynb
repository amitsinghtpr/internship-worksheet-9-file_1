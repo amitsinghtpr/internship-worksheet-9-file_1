{
 "cells": [
  {
   "cell_type": "markdown",
   "id": "25224c16",
   "metadata": {},
   "source": [
    "1).When implementing linear regression of some dependent variable 𝑦 on the set of independent \n",
    "variables 𝐱 = (𝑥₁, …, 𝑥ᵣ), where 𝑟 is the number of predictors, which of the following statements will \n",
    "be true?\n",
    "\n",
    "a) 𝛽₀, 𝛽₁, …, 𝛽ᵣ are the regression coefficients.\n",
    "\n",
    "b) Linear regression is about determining the best predicted weights by using the method of \n",
    "ordinary least squares.\n",
    "\n",
    "c) E is the random interval \n",
    "\n",
    "d) Both and b\n",
    "\n",
    "Ans: d) Both a and b  "
   ]
  },
  {
   "cell_type": "markdown",
   "id": "0d32c9e0",
   "metadata": {},
   "source": [
    "2).What indicates that you have a perfect fit in linear regression?\n",
    "\n",
    "a) The value 𝑅² < 1, which corresponds to SSR = 0\n",
    "\n",
    "b) The value 𝑅² = 0, which corresponds to SSR = 1\n",
    "\n",
    "c) The value 𝑅² > 0, which corresponds to SSR = 1\n",
    "\n",
    "d) The value 𝑅² = 1, which corresponds to SSR = 0\n",
    "\n",
    "Ans:d) The value 𝑅² = 1, which corresponds to SSR = 0"
   ]
  },
  {
   "cell_type": "markdown",
   "id": "085bf7cc",
   "metadata": {},
   "source": [
    "3).In simple linear regression, the value of what shows the point where the estimated regression line \n",
    "crosses the 𝑦 axis?\n",
    "\n",
    "a) Y\n",
    "\n",
    "b) B0\n",
    "\n",
    "c) B1\n",
    "\n",
    "d) F\n",
    "\n",
    "Ans: b)B0"
   ]
  },
  {
   "cell_type": "markdown",
   "id": "e179da7c",
   "metadata": {},
   "source": [
    "4).Check out these four linear regression plots:\n",
    "Which one represents an underfitted model?\n",
    "\n",
    "a)The bottom-left plot\n",
    "\n",
    "b) The top-right plot\n",
    "\n",
    "c) The bottom-right plot\n",
    "\n",
    "d) The top-left plot\n",
    "\n",
    "Ans: d) The top-left plot"
   ]
  },
  {
   "cell_type": "markdown",
   "id": "79db487a",
   "metadata": {},
   "source": [
    "5).There are five basic steps when you’re implementing linear regression:\n",
    "    \n",
    "• a. Check the results of model fitting to know whether the model is satisfactory.\n",
    "\n",
    "• b. Provide data to work with, and eventually do appropriate transformations.\n",
    "\n",
    "• c. Apply the model for predictions.\n",
    "\n",
    "• d. Import the packages and classes that you need.\n",
    "\n",
    "• e. Create a regression model and fit it with existing data.\n",
    "\n",
    "However, those steps are currently listed in the wrong order. What’s the correct order?\n",
    "\n",
    "a) e, c, a, b, d\n",
    "\n",
    "b) e, d, b, a, c\n",
    "\n",
    "c) d, e, c, b, a\n",
    "\n",
    "d) d, b, e, a, c\n",
    "\n",
    "Ans:b)  e, d, b, a, c."
   ]
  },
  {
   "cell_type": "markdown",
   "id": "949245c8",
   "metadata": {},
   "source": [
    "6). Which of the following are optional parameters to LinearRegression in scikit-learn?\n",
    "    \n",
    "a) Fit\n",
    "\n",
    "b) fit_intercept\n",
    "\n",
    "c) normalize\n",
    "\n",
    "d) copy_X\n",
    "\n",
    "e) n_jobs\n",
    "\n",
    "f) reshape\n",
    "\n",
    "Ans: d) copy_X and e) n_jobs "
   ]
  },
  {
   "cell_type": "markdown",
   "id": "421fb52a",
   "metadata": {},
   "source": [
    "7). While working with scikit-learn, in which type of regression do you need to transform the array of \n",
    "inputs to include nonlinear terms such as 𝑥²?\n",
    "\n",
    "a)Multiple linear regression\n",
    "\n",
    "b) Simple linear regression\n",
    "\n",
    "c) Polynomial regression\n",
    "\n",
    "Ans:c) Polynomial regression."
   ]
  },
  {
   "cell_type": "markdown",
   "id": "51bab319",
   "metadata": {},
   "source": [
    "8). You should choose statsmodels over scikit-learn when:\n",
    "    \n",
    "A)You want graphical representations of your data.\n",
    "\n",
    "b) You’re working with nonlinear terms.\n",
    "\n",
    "c) You need more detailed results.\n",
    "\n",
    "d) You need to include optional parameters.\n",
    "\n",
    "Ans:c) You need more detailed results.\n"
   ]
  },
  {
   "cell_type": "markdown",
   "id": "78482257",
   "metadata": {},
   "source": [
    "9)._________ is a fundamental package for scientific computing with Python. It offers \n",
    "comprehensive mathematical functions, random number generators, linear algebra routines, Fourier \n",
    "transforms, and more. It provides a high-level syntax that makes it accessible and productive.\n",
    "\n",
    "a) Pandas\n",
    "\n",
    "b) Numpy\n",
    "\n",
    "c) Statsmodel\n",
    "\n",
    "d) scipy\n",
    "\n",
    "Ans: b) Numpy"
   ]
  },
  {
   "cell_type": "markdown",
   "id": "af62b129",
   "metadata": {},
   "source": [
    "10). _________ is a Python data visualization library based on Matplotlib. It provides a high-level \n",
    "interface for drawing attractive and informative statistical graphics that allow you to explore and \n",
    "understand your data. It integrates closely with pandas data structures.\n",
    "\n",
    "a) Bokeh\n",
    "\n",
    "b) Seaborn\n",
    "\n",
    "c) Matplotlib\n",
    "\n",
    "d) Dash\n",
    "\n",
    "Ans: b) Seaborn"
   ]
  },
  {
   "cell_type": "code",
   "execution_count": null,
   "id": "a99b1ffe",
   "metadata": {},
   "outputs": [],
   "source": []
  }
 ],
 "metadata": {
  "kernelspec": {
   "display_name": "Python 3 (ipykernel)",
   "language": "python",
   "name": "python3"
  },
  "language_info": {
   "codemirror_mode": {
    "name": "ipython",
    "version": 3
   },
   "file_extension": ".py",
   "mimetype": "text/x-python",
   "name": "python",
   "nbconvert_exporter": "python",
   "pygments_lexer": "ipython3",
   "version": "3.9.12"
  }
 },
 "nbformat": 4,
 "nbformat_minor": 5
}
